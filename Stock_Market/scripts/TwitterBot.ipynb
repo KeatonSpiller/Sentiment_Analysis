{
 "cells": [
  {
   "cell_type": "code",
   "execution_count": 117,
   "metadata": {},
   "outputs": [],
   "source": [
    "# Import Libraries\n",
    "import os\n",
    "import sys\n",
    "import re\n",
    "import glob\n",
    "import pandas as pd\n",
    "import numpy as np\n",
    "import matplotlib.pyplot as plt\n",
    "import ipykernel\n",
    "import tweepy\n",
    "import stockmarket\n",
    "import nltk\n",
    "import collections\n",
    "import seaborn as sns\n",
    "import itertools"
   ]
  },
  {
   "cell_type": "code",
   "execution_count": 242,
   "metadata": {},
   "outputs": [],
   "source": [
    "# Read in keys from a csv file\n",
    "readin_authentication = pd.read_csv('../authentication/authentication_tokens.csv', header=0, sep=',')\n",
    "\n",
    "consumer_key = readin_authentication['consumer_key'][0]\n",
    "consumer_secret = readin_authentication['consumer_secret'][0]\n",
    "access_token = readin_authentication['access_token'][0]\n",
    "access_token_secret = readin_authentication['access_token_secret'][0]\n",
    "\n",
    "# connect to twitter application \n",
    "auth = tweepy.OAuthHandler(consumer_key, consumer_secret)\n",
    "redirect_url = auth.get_authorization_url()\n",
    "auth.set_access_token(access_token, access_token_secret)\n",
    "api = tweepy.API(auth)"
   ]
  },
  {
   "cell_type": "code",
   "execution_count": 243,
   "metadata": {},
   "outputs": [],
   "source": [
    "def user_download(userID):\n",
    "    tweets = api.user_timeline(screen_name=userID, \n",
    "                            # 200 is the maximum allowed count\n",
    "                            count=200,\n",
    "                            include_rts = False,\n",
    "                            tweet_mode = 'extended'\n",
    "                            )\n",
    "    all_tweets = []\n",
    "    all_tweets.extend(tweets)\n",
    "    oldest_id = tweets[-1].id\n",
    "    while True:\n",
    "        tweets = api.user_timeline(screen_name=userID, \n",
    "                            # 200 is the maximum allowed count\n",
    "                            count=200,\n",
    "                            include_rts = False,\n",
    "                            max_id = oldest_id - 1,\n",
    "                            # Necessary to keep full_text \n",
    "                            # otherwise only the first 140 words are extracted\n",
    "                            tweet_mode = 'extended'\n",
    "                            )\n",
    "        if len(tweets) == 0:\n",
    "            break\n",
    "        oldest_id = tweets[-1].id\n",
    "        all_tweets.extend(tweets)\n",
    "        # print('N of tweets downloaded till now {}'.format(len(all_tweets)))\n",
    "        \n",
    "    # label and clean up tweets\n",
    "    outtweets = [[tweet.id_str,\n",
    "                tweet.created_at, \n",
    "                tweet.favorite_count, \n",
    "                tweet.retweet_count,\n",
    "                ' '.join(re.sub(\"(@[A-Za-z0-9]+)|([^0-9A-Za-z \\t])|(\\w+:\\/\\/\\S+)\", \" \", tweet.full_text.encode(\"utf-8\").decode(\"utf-8\")).split()) \n",
    "                ] \n",
    "                for idx,tweet in enumerate(all_tweets)]\n",
    "    df_temp = pd.DataFrame(outtweets,columns=[\"id\",\"created_at\",\"favorite_count\",\"retweet_count\", \"text\"])\n",
    "    df_temp.to_csv('../data/%s_tweets.csv' % userID,index=False)"
   ]
  },
  {
   "cell_type": "code",
   "execution_count": 203,
   "metadata": {},
   "outputs": [],
   "source": [
    "user_list = ['jimcramer','KennethLFisher']\n",
    "for userID in user_list:\n",
    "    user_download(userID)"
   ]
  },
  {
   "cell_type": "code",
   "execution_count": 204,
   "metadata": {},
   "outputs": [
    {
     "name": "stdout",
     "output_type": "stream",
     "text": [
      "jimcramer_tweets.csv\n"
     ]
    },
    {
     "data": {
      "text/html": [
       "<div>\n",
       "<style scoped>\n",
       "    .dataframe tbody tr th:only-of-type {\n",
       "        vertical-align: middle;\n",
       "    }\n",
       "\n",
       "    .dataframe tbody tr th {\n",
       "        vertical-align: top;\n",
       "    }\n",
       "\n",
       "    .dataframe thead th {\n",
       "        text-align: right;\n",
       "    }\n",
       "</style>\n",
       "<table border=\"1\" class=\"dataframe\">\n",
       "  <thead>\n",
       "    <tr style=\"text-align: right;\">\n",
       "      <th></th>\n",
       "      <th>id</th>\n",
       "      <th>created_at</th>\n",
       "      <th>favorite_count</th>\n",
       "      <th>retweet_count</th>\n",
       "      <th>text</th>\n",
       "      <th>user</th>\n",
       "    </tr>\n",
       "  </thead>\n",
       "  <tbody>\n",
       "    <tr>\n",
       "      <th>0</th>\n",
       "      <td>1602305304024211457</td>\n",
       "      <td>2022-12-12 14:12:08+00:00</td>\n",
       "      <td>110</td>\n",
       "      <td>12</td>\n",
       "      <td>Lotta stupid deals but deals need to be done I...</td>\n",
       "      <td>jimcramer</td>\n",
       "    </tr>\n",
       "    <tr>\n",
       "      <th>1</th>\n",
       "      <td>1602299437258268674</td>\n",
       "      <td>2022-12-12 13:48:49+00:00</td>\n",
       "      <td>39</td>\n",
       "      <td>2</td>\n",
       "      <td>sure was</td>\n",
       "      <td>jimcramer</td>\n",
       "    </tr>\n",
       "    <tr>\n",
       "      <th>2</th>\n",
       "      <td>1602084981773406210</td>\n",
       "      <td>2022-12-11 23:36:39+00:00</td>\n",
       "      <td>206</td>\n",
       "      <td>8</td>\n",
       "      <td>Some things transcend games We love Summit New...</td>\n",
       "      <td>jimcramer</td>\n",
       "    </tr>\n",
       "  </tbody>\n",
       "</table>\n",
       "</div>"
      ],
      "text/plain": [
       "                    id                 created_at  favorite_count  \\\n",
       "0  1602305304024211457  2022-12-12 14:12:08+00:00             110   \n",
       "1  1602299437258268674  2022-12-12 13:48:49+00:00              39   \n",
       "2  1602084981773406210  2022-12-11 23:36:39+00:00             206   \n",
       "\n",
       "   retweet_count                                               text       user  \n",
       "0             12  Lotta stupid deals but deals need to be done I...  jimcramer  \n",
       "1              2                                           sure was  jimcramer  \n",
       "2              8  Some things transcend games We love Summit New...  jimcramer  "
      ]
     },
     "metadata": {},
     "output_type": "display_data"
    },
    {
     "name": "stdout",
     "output_type": "stream",
     "text": [
      "(2928, 6)\n",
      "KennethLFisher_tweets.csv\n"
     ]
    },
    {
     "data": {
      "text/html": [
       "<div>\n",
       "<style scoped>\n",
       "    .dataframe tbody tr th:only-of-type {\n",
       "        vertical-align: middle;\n",
       "    }\n",
       "\n",
       "    .dataframe tbody tr th {\n",
       "        vertical-align: top;\n",
       "    }\n",
       "\n",
       "    .dataframe thead th {\n",
       "        text-align: right;\n",
       "    }\n",
       "</style>\n",
       "<table border=\"1\" class=\"dataframe\">\n",
       "  <thead>\n",
       "    <tr style=\"text-align: right;\">\n",
       "      <th></th>\n",
       "      <th>id</th>\n",
       "      <th>created_at</th>\n",
       "      <th>favorite_count</th>\n",
       "      <th>retweet_count</th>\n",
       "      <th>text</th>\n",
       "      <th>user</th>\n",
       "    </tr>\n",
       "  </thead>\n",
       "  <tbody>\n",
       "    <tr>\n",
       "      <th>0</th>\n",
       "      <td>1602383327901663232</td>\n",
       "      <td>2022-12-12 19:22:10+00:00</td>\n",
       "      <td>8</td>\n",
       "      <td>1</td>\n",
       "      <td>Always a honor to present at MoneyShow I hope ...</td>\n",
       "      <td>KennethLFisher</td>\n",
       "    </tr>\n",
       "    <tr>\n",
       "      <th>1</th>\n",
       "      <td>1602379516747583488</td>\n",
       "      <td>2022-12-12 19:07:02+00:00</td>\n",
       "      <td>3</td>\n",
       "      <td>0</td>\n",
       "      <td>Thanks for the confidence of your comments and...</td>\n",
       "      <td>KennethLFisher</td>\n",
       "    </tr>\n",
       "    <tr>\n",
       "      <th>2</th>\n",
       "      <td>1602379340402262016</td>\n",
       "      <td>2022-12-12 19:06:20+00:00</td>\n",
       "      <td>0</td>\n",
       "      <td>0</td>\n",
       "      <td>Thanks for the confidence of your comments and...</td>\n",
       "      <td>KennethLFisher</td>\n",
       "    </tr>\n",
       "  </tbody>\n",
       "</table>\n",
       "</div>"
      ],
      "text/plain": [
       "                    id                 created_at  favorite_count  \\\n",
       "0  1602383327901663232  2022-12-12 19:22:10+00:00               8   \n",
       "1  1602379516747583488  2022-12-12 19:07:02+00:00               3   \n",
       "2  1602379340402262016  2022-12-12 19:06:20+00:00               0   \n",
       "\n",
       "   retweet_count                                               text  \\\n",
       "0              1  Always a honor to present at MoneyShow I hope ...   \n",
       "1              0  Thanks for the confidence of your comments and...   \n",
       "2              0  Thanks for the confidence of your comments and...   \n",
       "\n",
       "             user  \n",
       "0  KennethLFisher  \n",
       "1  KennethLFisher  \n",
       "2  KennethLFisher  "
      ]
     },
     "metadata": {},
     "output_type": "display_data"
    },
    {
     "name": "stdout",
     "output_type": "stream",
     "text": [
      "(3199, 6)\n",
      "\n",
      "size of merged data sets: (6127, 6)\n"
     ]
    }
   ],
   "source": [
    "csv_files = glob.glob(os.path.join('../data', \"*.csv\"))\n",
    "df = pd.DataFrame()\n",
    "i = 0\n",
    "for f in csv_files:\n",
    "    # read the csv file\n",
    "    df_temp = pd.read_csv(f)\n",
    "    df_temp['user'] = user_list[i]\n",
    "    # print the filename\n",
    "    print(f.split(\"\\\\\")[-1])\n",
    "      \n",
    "    display(df_temp.iloc[0:3])\n",
    "    print(df_temp.shape)\n",
    "    # Merging the columns\n",
    "    df = pd.concat([df_temp,df], names = ['id',\t'created_at',\t'favorite_count',\t'retweet_count',\t'text', 'user'])\n",
    "    i += 1\n",
    "print()\n",
    "print(f\"size of merged data sets: {df.shape}\")\n"
   ]
  },
  {
   "cell_type": "code",
   "execution_count": 244,
   "metadata": {},
   "outputs": [
    {
     "name": "stdout",
     "output_type": "stream",
     "text": [
      "<class 'pandas.core.series.Series'>\n"
     ]
    },
    {
     "data": {
      "image/png": "[encoded data removed]",
      "text/plain": [
       "<Figure size 640x480 with 1 Axes>"
      ]
     },
     "metadata": {},
     "output_type": "display_data"
    },
    {
     "name": "stdout",
     "output_type": "stream",
     "text": [
      "thanks       44\n",
      "go           11\n",
      "great         9\n",
      "big           8\n",
      "good          7\n",
      "             ..\n",
      "lisa          1\n",
      "birthday      1\n",
      "winners       1\n",
      "halloween     1\n",
      "seconds       1\n",
      "Name: text, Length: 564, dtype: int64\n"
     ]
    }
   ],
   "source": [
    "stop = nltk.corpus.stopwords.words(\"english\") \n",
    "\n",
    "# all_words = df['text'].str.lower().str.split(' ').explode()\n",
    "all_words = df['text'].str.lower().replace(to_replace='(\\d)+', value=np.nan,regex=True)\n",
    "\n",
    "for i in stop :\n",
    "    all_words = all_words.replace(to_replace=r'\\b%s\\b'%i, value=np.nan,regex=True)\n",
    "all_words = all_words.str.lower().str.split(' ').explode().dropna()\n",
    "print(type(all_words))\n",
    "counts = all_words.value_counts()\n",
    "sns.set_style('darkgrid')\n",
    "nlp_words=nltk.FreqDist(all_words)\n",
    "nlp_words.plot(10)\n",
    "print(counts)"
   ]
  }
 ],
 "metadata": {
  "kernelspec": {
   "display_name": "Python 3.9.12 ('base')",
   "language": "python",
   "name": "python3"
  },
  "language_info": {
   "codemirror_mode": {
    "name": "ipython",
    "version": 3
   },
   "file_extension": ".py",
   "mimetype": "text/x-python",
   "name": "python",
   "nbconvert_exporter": "python",
   "pygments_lexer": "ipython3",
   "version": "3.9.15"
  },
  "orig_nbformat": 4,
  "vscode": {
   "interpreter": {
    "hash": "829c3b8be07045a118e2051d32961b742b1ec2887b2f995a302577c84815eb30"
   }
  }
 },
 "nbformat": 4,
 "nbformat_minor": 2
}
